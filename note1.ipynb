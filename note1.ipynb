{
  "nbformat": 4,
  "nbformat_minor": 0,
  "metadata": {
    "colab": {
      "name": "Untitled1.ipynb",
      "provenance": [],
      "authorship_tag": "ABX9TyODhsBNqPhGaVNs/EdOFmP4",
      "include_colab_link": true
    },
    "kernelspec": {
      "name": "python3",
      "display_name": "Python 3"
    },
    "accelerator": "GPU"
  },
  "cells": [
    {
      "cell_type": "markdown",
      "metadata": {
        "id": "view-in-github",
        "colab_type": "text"
      },
      "source": [
        "<a href=\"https://colab.research.google.com/github/baherami/lupo/blob/main/note1.ipynb\" target=\"_parent\"><img src=\"https://colab.research.google.com/assets/colab-badge.svg\" alt=\"Open In Colab\"/></a>"
      ]
    },
    {
      "cell_type": "code",
      "metadata": {
        "colab": {
          "base_uri": "https://localhost:8080/"
        },
        "id": "YcmPBxqJX6oH",
        "outputId": "c01f8a41-d307-4c40-c6a7-895be2e695c5"
      },
      "source": [
        "!pip install -Uqq fastbook\n",
        "import fastbook\n",
        "fastbook.setup_book()"
      ],
      "execution_count": 1,
      "outputs": [
        {
          "output_type": "stream",
          "text": [
            "\u001b[K     |████████████████████████████████| 727kB 12.6MB/s \n",
            "\u001b[K     |████████████████████████████████| 51kB 6.8MB/s \n",
            "\u001b[K     |████████████████████████████████| 1.2MB 42.3MB/s \n",
            "\u001b[K     |████████████████████████████████| 194kB 58.0MB/s \n",
            "\u001b[K     |████████████████████████████████| 61kB 10.1MB/s \n",
            "\u001b[?25hMounted at /content/gdrive\n"
          ],
          "name": "stdout"
        }
      ]
    },
    {
      "cell_type": "code",
      "metadata": {
        "id": "Sy-GHA91GbYW"
      },
      "source": [
        ""
      ],
      "execution_count": null,
      "outputs": []
    },
    {
      "cell_type": "code",
      "metadata": {
        "id": "uaelie_eX6oN"
      },
      "source": [
        "from fastbook import *\n",
        "from fastai.vision.widgets import *"
      ],
      "execution_count": 2,
      "outputs": []
    },
    {
      "cell_type": "code",
      "metadata": {
        "id": "3Zu67BTuX6ob"
      },
      "source": [
        "key = os.environ.get('AZURE_SEARCH_KEY', '0ee221f90f1d4234bafa42df69a25bd3')"
      ],
      "execution_count": 3,
      "outputs": []
    },
    {
      "cell_type": "code",
      "metadata": {
        "id": "38V81cHeX6oe"
      },
      "source": [
        "invasive_plant_types = {'Lupine' : [\n",
        "                                   'Lupinus polyphyllus',\n",
        "                                   'Lupine',\n",
        "                                  'Komealupiini',\n",
        "                                  'lupiini',\n",
        "                                  'large-leaved lupine',\n",
        "                                  'big-leaved lupine',\n",
        "                                  'many-leaved lupine',\n",
        "                                  'blue-pod lupine',\n",
        "                                  ],\n",
        "                        'Hogweed' : [\n",
        "                                     'Heracleum mantegazzianum',\n",
        "                                     'Hogweed',\n",
        "                                     'giant hogweed',\n",
        "                                     'cartwheel-flower',\n",
        "                                     'giant cow parsley',\n",
        "                                     'giant cow parsnip',\n",
        "                                     'hogsbane',\n",
        "                                     '']\n",
        "                        'Heracleum mantegazzianum':'',\n",
        "                        'Impatiens glandulifera':'Impatiens',\n",
        "                        }\n",
        "path = Path('invasive_plants')"
      ],
      "execution_count": 11,
      "outputs": []
    },
    {
      "cell_type": "code",
      "metadata": {
        "id": "tkZOhb6qX6oe",
        "colab": {
          "base_uri": "https://localhost:8080/"
        },
        "outputId": "6d124ab8-37c8-4286-8f00-7d75d0ff5127"
      },
      "source": [
        "invasive_plant_types"
      ],
      "execution_count": 12,
      "outputs": [
        {
          "output_type": "execute_result",
          "data": {
            "text/plain": [
              "{'Heracleum mantegazzianum': 'Hogweed',\n",
              " 'Impatiens glandulifera': 'Impatiens',\n",
              " 'Lupinus polyphyllus': 'Lupine'}"
            ]
          },
          "metadata": {
            "tags": []
          },
          "execution_count": 12
        }
      ]
    },
    {
      "cell_type": "code",
      "metadata": {
        "colab": {
          "base_uri": "https://localhost:8080/"
        },
        "id": "OmJvVlFWHwou",
        "outputId": "87c8d9d8-1402-41b0-ded3-3c04e17b18aa"
      },
      "source": [
        "if not path.exists():\r\n",
        "    path.mkdir()\r\n",
        "    for item in invasive_plant_types.items():\r\n",
        "      dest = (path/item[1])\r\n",
        "      dest.mkdir(exist_ok=True)\r\n",
        "      latin_results = search_images_bing(key, item[0])\r\n",
        "      english_results = search_images_bing(key, item[1])\r\n",
        "      \r\n",
        "        download_images(dest, urls=results.attrgot('contentUrl'))\r\n"
      ],
      "execution_count": 18,
      "outputs": [
        {
          "output_type": "stream",
          "text": [
            "('Lupinus polyphyllus', 'Lupine')\n",
            "('Heracleum mantegazzianum', 'Hogweed')\n",
            "('Impatiens glandulifera', 'Impatiens')\n"
          ],
          "name": "stdout"
        }
      ]
    },
    {
      "cell_type": "code",
      "metadata": {
        "id": "uy0JsnmJI7Ee"
      },
      "source": [
        ""
      ],
      "execution_count": null,
      "outputs": []
    },
    {
      "cell_type": "code",
      "metadata": {
        "id": "GW7lTlvBJXIL"
      },
      "source": [
        "if not path.exists():\n",
        "    path.mkdir()\n",
        "    for o in bear_types:\n",
        "        dest = (path/o)\n",
        "        dest.mkdir(exist_ok=True)\n",
        "        results = search_images_bing(key, f'{o} bear')\n",
        "        download_images(dest, urls=results.attrgot('contentUrl'))"
      ],
      "execution_count": null,
      "outputs": []
    },
    {
      "cell_type": "code",
      "metadata": {
        "id": "z5RaGC2vI39m"
      },
      "source": [
        ""
      ],
      "execution_count": null,
      "outputs": []
    },
    {
      "cell_type": "code",
      "metadata": {
        "id": "uMvFwP1nIrRH"
      },
      "source": [
        ""
      ],
      "execution_count": null,
      "outputs": []
    },
    {
      "cell_type": "code",
      "metadata": {
        "id": "87vUeUIjIqGW"
      },
      "source": [
        ""
      ],
      "execution_count": null,
      "outputs": []
    },
    {
      "cell_type": "code",
      "metadata": {
        "id": "ELiK5vO0IeQV"
      },
      "source": [
        ""
      ],
      "execution_count": null,
      "outputs": []
    },
    {
      "cell_type": "code",
      "metadata": {
        "id": "U6T_XDUvHvH5"
      },
      "source": [
        ""
      ],
      "execution_count": null,
      "outputs": []
    },
    {
      "cell_type": "code",
      "metadata": {
        "id": "k63Len5xHuHH"
      },
      "source": [
        ""
      ],
      "execution_count": null,
      "outputs": []
    }
  ]
}